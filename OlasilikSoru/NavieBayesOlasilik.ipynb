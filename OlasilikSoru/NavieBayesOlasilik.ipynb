{
  "nbformat": 4,
  "nbformat_minor": 0,
  "metadata": {
    "colab": {
      "name": "NavieBayesOlasilik.ipynb",
      "provenance": [],
      "collapsed_sections": [],
      "authorship_tag": "ABX9TyNgZEj1BaJawjp605CFFTOF",
      "include_colab_link": true
    },
    "kernelspec": {
      "name": "python3",
      "display_name": "Python 3"
    },
    "language_info": {
      "name": "python"
    }
  },
  "cells": [
    {
      "cell_type": "markdown",
      "metadata": {
        "id": "view-in-github",
        "colab_type": "text"
      },
      "source": [
        "<a href=\"https://colab.research.google.com/github/kadireker/AyrikSistemlerOlasilik/blob/main/OlasilikSoru/NavieBayesOlasilik.ipynb\" target=\"_parent\"><img src=\"https://colab.research.google.com/assets/colab-badge.svg\" alt=\"Open In Colab\"/></a>"
      ]
    },
    {
      "cell_type": "markdown",
      "source": [
        "**Naïve Bayes sınıflandırma**\n",
        "\n",
        "Naïve Bayes sınıflandırma algoritması, adını Matematikçi Thomas Bayes’den alan bir sınıflandırma/ kategorilendirme algoritmasıdır. Naïve Bayes sınıflandırması olasılık ilkelerine göre tanımlanmış bir dizi hesaplama ile, sisteme sunulan verilerin sınıfını yani kategorisini tespit etmeyi amaçlar.\n",
        "\n",
        "**Örnek :** Her 100 çocuktan 1 tanesi X hastalıgına yakalanmaktadır. X hastalıgının tesbitinde kullanılan test tam güvenilir sonuçlar **üretememektedir.** Hasta kisilerde bu testin sonucu %80 pozitif çıkarken, hasta olamayan kisilerde %10 pozitif çıkamaktadır. \n",
        "\n",
        "**KOŞUL =** Bu bilgilere göre test sonucu pozitif olan bir çocugun; \n",
        "\n",
        "**OLASILIK =** geçekten hasta olma olasılıgı nedir?\n",
        "\n",
        "**FORMÜL =** P(A|B) = (P(B|A) * P(A)) / P(B) "
      ],
      "metadata": {
        "id": "tkI0ULuNpBAE"
      }
    },
    {
      "cell_type": "code",
      "execution_count": 1,
      "metadata": {
        "id": "ogUQEnxLo02e"
      },
      "outputs": [],
      "source": [
        "def bayesHesabi(hastaSayisi,saglikliSayisi,hastaPoz,saglikliPoz):\n",
        "    result=1 \n",
        "    OrnekUzay =  ((hastaPoz/100)*(hastaSayisi/100)) + ((saglikliPoz/100)*(saglikliSayisi/100)) \n",
        "    gercekHasta = ((hastaPoz/100)*(hastaSayisi/100))\n",
        "    result = gercekHasta/OrnekUzay    \n",
        "    return result"
      ]
    },
    {
      "cell_type": "code",
      "source": [
        "print(\"yuzde oran =\",100*bayesHesabi(1,99,80,10))"
      ],
      "metadata": {
        "colab": {
          "base_uri": "https://localhost:8080/"
        },
        "id": "STRL4zugpxnD",
        "outputId": "d8080f94-c341-45c6-b052-37feb445edef"
      },
      "execution_count": 5,
      "outputs": [
        {
          "output_type": "stream",
          "name": "stdout",
          "text": [
            "yuzde oran = 7.476635514018691\n"
          ]
        }
      ]
    }
  ]
}