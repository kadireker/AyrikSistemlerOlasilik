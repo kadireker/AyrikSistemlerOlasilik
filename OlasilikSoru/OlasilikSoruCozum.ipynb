{
  "nbformat": 4,
  "nbformat_minor": 0,
  "metadata": {
    "colab": {
      "name": "OlasilikSoruCozum.ipynb",
      "provenance": [],
      "authorship_tag": "ABX9TyMpRT7n0W9RXmVbkiW6Hmja",
      "include_colab_link": true
    },
    "kernelspec": {
      "name": "python3",
      "display_name": "Python 3"
    },
    "language_info": {
      "name": "python"
    }
  },
  "cells": [
    {
      "cell_type": "markdown",
      "metadata": {
        "id": "view-in-github",
        "colab_type": "text"
      },
      "source": [
        "<a href=\"https://colab.research.google.com/github/kadireker/AyrikSistemlerOlasilik/blob/main/OlasilikSoru/OlasilikSoruCozum.ipynb\" target=\"_parent\"><img src=\"https://colab.research.google.com/assets/colab-badge.svg\" alt=\"Open In Colab\"/></a>"
      ]
    },
    {
      "cell_type": "markdown",
      "source": [
        "**Olasılık Ödev**\n",
        "\n",
        "**Olasılık** : Rassal etkiler sonucunda elde edilen sonucun matematiksel değerler ile riskin ölçülerek ifade edilmesine olasılık denilmektedir. Gerçekleşen bir olayın sonucu önceden tahmin edilemez, fakat sonuçlardan birisi olabilir. Gerçek sonuç şans eseri saptanabilmektedir. Şans ise önceden tahmin edilemeyerek gelişen bir şeydir. Olasılık ise bir şeyin gerçekleşmesi ile elde edilen matematiksel bir kavram olarak karşımıza çıkmaktadır.\n",
        "\n",
        "\n",
        "Olasılık matematikte, bir olayın sonucunda ortaya çıkabilecek sonuçları ifade etmektedir. Bu durumlardan her birisi çıktı olarak adlandırılmaktadır. Bilimsel olarak kararsız kalındığı anda matematikte olasılık karşımıza çıkmaktadır.\n",
        "\n",
        "Matematikte olasılık “P” ile gösterilmektedir. Olasılık sürekli olarak 0 ile 1 arasında yer almaktadır. Bir olay basit bir olayda olsa bileşik bir olayda olsa, olayın olasılığı 0 ile 1 arasında olmaktadır.\n",
        "\n",
        "Bir olayın olma olasılığı istenilen olayın çıktı sayısının tüm çıktıların sayısına bölümüdür.\n",
        "\n",
        "**BirOlayınOlmaOlasılığı=İstenilenDurumSayısı/TümDurumlarınSayısı**\n",
        "\n",
        "**ÖRNEK :** \n",
        "\n",
        "4 doktor, 5 hemsire arasından 3 kisilik ekip seçilecektir. Seçilenler arasında 1 doktor 2 hemsire olma olasılıgı nedir?\n",
        "\n",
        "**ÇÖZÜM :**\n",
        "Olay=(DHH,HHD,...)\n",
        "Örnek Uzay = C(9,3)\n",
        "Olasılık = (C(4,1)*C(5,2))/C(9,3)"
      ],
      "metadata": {
        "id": "HBLwaQdtIfaT"
      }
    },
    {
      "cell_type": "code",
      "source": [
        "def faktoriyel(f):\n",
        "    result = 1 \n",
        "    if f < 0: \n",
        "        print (\"Negatif sayılar için faktöriyel bulunmaz.\")\n",
        "    elif f == 0: \n",
        "        print (\"O ın faktöriyel 1 dir.\")\n",
        "    else:\n",
        "        for i in range(1,f + 1): \n",
        "            result = result*i \n",
        "    return result"
      ],
      "metadata": {
        "id": "lPh1YiAZIgmr"
      },
      "execution_count": 1,
      "outputs": []
    },
    {
      "cell_type": "code",
      "source": [
        "def kombinasyon(x,y):\n",
        "    resultp = 0\n",
        "    if (y>x):\n",
        "        resultp = resultp\n",
        "    else:\n",
        "        resultp = faktoriyel(x)/(faktoriyel(x-y)*faktoriyel(y))\n",
        "    return resultp"
      ],
      "metadata": {
        "id": "Bz_EaHPTQoAz"
      },
      "execution_count": 2,
      "outputs": []
    },
    {
      "cell_type": "code",
      "source": [
        "def olasilik(a,b,ax,bx,t):\n",
        "    resultA = kombinasyon(a,ax)\n",
        "    resultB = kombinasyon(b,bx)\n",
        "    ornekUzay = kombinasyon((a+b),t)\n",
        "    sonuc = (resultA*resultB)/ornekUzay\n",
        "    return sonuc"
      ],
      "metadata": {
        "id": "DbBGCYavQoDY"
      },
      "execution_count": 3,
      "outputs": []
    },
    {
      "cell_type": "code",
      "source": [
        "print(olasilik(5,4,2,1,3))"
      ],
      "metadata": {
        "colab": {
          "base_uri": "https://localhost:8080/"
        },
        "id": "ToUi1WIrQoFx",
        "outputId": "96497bb4-34ed-4cc2-e713-324c67c4ce70"
      },
      "execution_count": 4,
      "outputs": [
        {
          "output_type": "stream",
          "name": "stdout",
          "text": [
            "0.47619047619047616\n"
          ]
        }
      ]
    }
  ]
}