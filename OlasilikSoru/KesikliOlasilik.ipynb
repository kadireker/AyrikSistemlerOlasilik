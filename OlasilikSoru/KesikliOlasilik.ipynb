{
  "nbformat": 4,
  "nbformat_minor": 0,
  "metadata": {
    "colab": {
      "name": "KesikliOlasilik.ipynb",
      "provenance": [],
      "authorship_tag": "ABX9TyNunA8m5Gvv7AnmAMCA1kXy",
      "include_colab_link": true
    },
    "kernelspec": {
      "name": "python3",
      "display_name": "Python 3"
    },
    "language_info": {
      "name": "python"
    }
  },
  "cells": [
    {
      "cell_type": "markdown",
      "metadata": {
        "id": "view-in-github",
        "colab_type": "text"
      },
      "source": [
        "<a href=\"https://colab.research.google.com/github/kadireker/AyrikSistemlerOlasilik/blob/main/OlasilikSoru/KesikliOlasilik.ipynb\" target=\"_parent\"><img src=\"https://colab.research.google.com/assets/colab-badge.svg\" alt=\"Open In Colab\"/></a>"
      ]
    },
    {
      "cell_type": "markdown",
      "source": [
        "**Kesikli (Ayrık) Olasılık**\n",
        "\n",
        "İsviçreli Matematikçi ve Fizikçi Daniel Bernoulli (1700 – 1782) tarafından bulunmuştur. Bu dağılım, rasgele değişkenin sadece 0 ve 1 değerlerini alabildiği kesikli olasılık dağılımıdır. En klasik örneği, bozuk bir paranın atıldığında yazı veya tura gelme olayıdır. Genellersek eğer bir olayın 2 cevabı varsa Bernoulli dağılımını oluşturur. Dağılımda genellikle 0 başarısızlığı ve 1 başarı durumunu kategorize eder. Aslında bu dağılım oldukça basittir; ama dağılımın önemi diğer dağılımların temelini oluşturmasıdır.\n",
        "\n",
        "Örneğin bir zar atıldığında 1,2,3,4,5 ve 6 gelebilir.Bu zarların hepsi eşit derecede gelme şansına sahiptir. (1/6) bu size ayrık bir olasılık dağılımı sağlar.\n",
        "\n",
        "![image.png](data:image/png;base64,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)\n",
        "\n",
        "\n",
        "**ÖRNEK :** \n",
        "\n",
        " 4 Yeşil, 3 Mavi topun bulunduğu bir torbadan 2 top çekiliyor.\n",
        "\n",
        " Mavi top gelme sayısına ait kesikli olasılık dağılımını bulunuz.\n",
        "\n",
        "**Çözüm :**\n",
        "Mavi top için rastgele değişkenler =(0,1,2)\n",
        "\n",
        " P(x=0)=(4/7 * 3/6)=2/7\n",
        "\n",
        " P(x=1)=(4/7 * 3/6)+(3/7 * 4/6)=4/7\n",
        "\n",
        " P(x=2)=(3/7 * 2/6)=1/7\n",
        "\n"
      ],
      "metadata": {
        "id": "DZ6YYVBLoijm"
      }
    },
    {
      "cell_type": "code",
      "source": [
        "def kesikli_olasilik_2_mavi_top(Y,M):\n",
        "    Total= Y+M\n",
        "    X0=(Y/Total)*(Y/(Total-1))\n",
        "    X1=(((Y/Total)*(M/(Total-1)))+((M/Total)*(Y/(Total-1))))\n",
        "    X2=((M/Total)*((M-1)/(Total-1)))\n",
        "    liste = [X0,X1,X2]\n",
        "    return liste"
      ],
      "metadata": {
        "id": "elBlttu3qifb"
      },
      "execution_count": 1,
      "outputs": []
    },
    {
      "cell_type": "code",
      "source": [
        "c= kesikli_olasilik_2_mavi_top(4,3)\n",
        "print(\"2 topun da mavi gelme olasılığına ait kesikli olasılık değerleri: \\n P(x=0)= \"  + str(c[0]) +\"\\n P(x=1)= \" +str(c[1]) + \"\\n P(x=2)= \"+ str(c[2]))"
      ],
      "metadata": {
        "colab": {
          "base_uri": "https://localhost:8080/"
        },
        "id": "fscF4Bp7qmon",
        "outputId": "59c1230d-bbe2-4191-fbb7-4a42658fbf11"
      },
      "execution_count": 3,
      "outputs": [
        {
          "output_type": "stream",
          "name": "stdout",
          "text": [
            "2 topun da mavi gelme olasılığına ait kesikli olasılık değerleri: \n",
            " P(x=0)= 0.38095238095238093\n",
            " P(x=1)= 0.5714285714285714\n",
            " P(x=2)= 0.14285714285714285\n"
          ]
        }
      ]
    }
  ]
}