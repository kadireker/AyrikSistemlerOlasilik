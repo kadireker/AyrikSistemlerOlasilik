{
  "nbformat": 4,
  "nbformat_minor": 0,
  "metadata": {
    "colab": {
      "name": "KosulluOlasilik.ipynb",
      "provenance": [],
      "collapsed_sections": [],
      "authorship_tag": "ABX9TyPrFMEscDJvzCHXyDy51IKh",
      "include_colab_link": true
    },
    "kernelspec": {
      "name": "python3",
      "display_name": "Python 3"
    },
    "language_info": {
      "name": "python"
    }
  },
  "cells": [
    {
      "cell_type": "markdown",
      "metadata": {
        "id": "view-in-github",
        "colab_type": "text"
      },
      "source": [
        "<a href=\"https://colab.research.google.com/github/kadireker/AyrikSistemlerOlasilik/blob/main/OlasilikSoru/KosulluOlasilik.ipynb\" target=\"_parent\"><img src=\"https://colab.research.google.com/assets/colab-badge.svg\" alt=\"Open In Colab\"/></a>"
      ]
    },
    {
      "cell_type": "markdown",
      "source": [
        "**Şartlı (Koşullu) Olasılık**\n",
        "\n",
        "E örnek uzayının iki olayı A ve B olsun. B olayının gerçekleştiği bilindiğine göre, A olayının gerçekleşmesi olasılığına A olayının B şartlı olasılığı (A olayının B ye bağlı koşullu olasılığı) denir. \n",
        "\n",
        "P(A/B) şeklinde gösterilir.\n",
        "\n",
        "![Ekran görüntüsü 2022-04-18 014657.png](data:image/png;base64,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)\n",
        "\n",
        "**ÖRNEK :** \n",
        "\n",
        "Rakamları farklı iki basamaklı doğal sayılar kartlara yazılıp bir torbaya atılıyor.Torbadan rastgele seçilen bir kartın üstündeki sayının 70 ten büyük olduğu bilindiğine göre, seçilen bu kartın üstündeki sayının 5 ile tam bölünebilme olasılığı kaçtır?\n",
        "\n",
        "**Çözüm :**\n",
        "\n",
        "Torbadan seçilen bir kartın 70 ten büyük rakamları farklı iki basamaklı doğal sayı olduğu bilindiğine göre,\n",
        "\n",
        "{7,8,9}\n",
        "\n",
        "P(B) = {71,72,73,...99} Toplam 29 sayı vardır fakat {77,88,99} birbirinden farklı 3 sayıyı çıkardığımızda  26 tane 70 ten büyük iki basamaklı sayı vardır.\n",
        "Bu küme içinde 5 ile tam bölünenler: 75, 80, 85, 90, 95 tir.\n",
        "\n",
        "P(AnB) = 5\n",
        "\n",
        "P(B)=26\n",
        "\n",
        "P(A/B) = 5/26\n",
        "\n",
        "\n"
      ],
      "metadata": {
        "id": "1Efdv_3isnxA"
      }
    },
    {
      "cell_type": "code",
      "execution_count": 4,
      "metadata": {
        "colab": {
          "base_uri": "https://localhost:8080/"
        },
        "id": "oDK6A47bsnFj",
        "outputId": "5277872e-6441-4839-fdb8-1e5f0375346d"
      },
      "outputs": [
        {
          "output_type": "execute_result",
          "data": {
            "text/plain": [
              "0.19230769230769232"
            ]
          },
          "metadata": {},
          "execution_count": 4
        }
      ],
      "source": [
        "def kosulluOlasilikHesapla(ilkTerim,sonTerim):\n",
        "  pB = (((sonTerim-ilkTerim)/1)+1)-3 \n",
        "  pAnpB = (((sonTerim-4)-(ilkTerim+4))/5)+1\n",
        "  pApB =  pAnpB / pB\n",
        "  return pApB\n",
        "\n",
        "kosulluOlasilikHesapla(71,99)"
      ]
    }
  ]
}