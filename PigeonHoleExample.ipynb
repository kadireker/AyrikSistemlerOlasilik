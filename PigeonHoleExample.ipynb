{
  "nbformat": 4,
  "nbformat_minor": 0,
  "metadata": {
    "colab": {
      "name": "PigeonHoleExample.ipynb",
      "provenance": [],
      "collapsed_sections": [],
      "authorship_tag": "ABX9TyO9uS32+Vhcv+B/ui/e6FqU",
      "include_colab_link": true
    },
    "kernelspec": {
      "name": "python3",
      "display_name": "Python 3"
    },
    "language_info": {
      "name": "python"
    }
  },
  "cells": [
    {
      "cell_type": "markdown",
      "metadata": {
        "id": "view-in-github",
        "colab_type": "text"
      },
      "source": [
        "<a href=\"https://colab.research.google.com/github/kadireker/AyrikSistemlerOlasilik/blob/main/PigeonHoleExample.ipynb\" target=\"_parent\"><img src=\"https://colab.research.google.com/assets/colab-badge.svg\" alt=\"Open In Colab\"/></a>"
      ]
    },
    {
      "cell_type": "code",
      "source": [
        "# Bir sınıftaki 37 kişi arasında aynı AYDA doğan en az kaç kişi vardır?\n",
        "x=37\n",
        "sonuc = int(37/12)+1\n",
        "print(sonuc)"
      ],
      "metadata": {
        "colab": {
          "base_uri": "https://localhost:8080/"
        },
        "id": "zrToSJMrFGq3",
        "outputId": "49490520-82e1-476b-96ab-413b8de84024"
      },
      "execution_count": null,
      "outputs": [
        {
          "output_type": "stream",
          "name": "stdout",
          "text": [
            "4\n"
          ]
        }
      ]
    },
    {
      "cell_type": "code",
      "execution_count": null,
      "metadata": {
        "colab": {
          "base_uri": "https://localhost:8080/"
        },
        "id": "19F_Jw2HwioV",
        "outputId": "88cce85f-0784-41c4-8d84-dc3952b9442d"
      },
      "outputs": [
        {
          "output_type": "stream",
          "name": "stdout",
          "text": [
            "Array Orjinal Hali :\n",
            "[5, 21, 19, 1, 3]\n",
            "Sıralanmış Hali :\n",
            "[1, 3, 5, 19, 21]\n"
          ]
        }
      ],
      "source": [
        "def pigeonhole_sort(a):\n",
        "    minimum = min(a)\n",
        "    maximum = max(a)\n",
        "    size = maximum - minimum + 1\n",
        "    pigeonholes = [0] * size\n",
        "    for i in a:\n",
        "        assert type(i) is int, \"sadece integer sayi\"\n",
        "        pigeonholes[i - minimum] += 1\n",
        "    j = 0\n",
        "    for count in range(size):\n",
        "        while pigeonholes[count] > 0:\n",
        "            pigeonholes[count] -= 1\n",
        "            a[j] = count + minimum\n",
        "            j += 1\n",
        "              \n",
        "  \n",
        "a = [5, 21, 19, 1,  3]\n",
        "print(\"Array Orjinal Hali :\")\n",
        "print(a)\n",
        "print(\"Sıralanmış Hali :\")\n",
        "pigeonhole_sort(a)\n",
        "print(a)"
      ]
    },
    {
      "cell_type": "code",
      "source": [
        "#15 Erkek ve 15 kadından oluşan bir insan grubu içinde rastgele seçilen 8 kişinin aynı cinsiyette olması için toplamda kaç kişi seçilmelidir?\n",
        "#15 kişilik bir insan grubu içinde aynı cinsiyete ait en az kaç kişi vardır.\n",
        "from random import shuffle\n",
        "\n",
        "erkek = []\n",
        "kadin = []\n",
        "\n",
        "k = 15\n",
        "for x in range(k):\n",
        "    erkek.append('E')\n",
        "    kadin.append('K')\n",
        "\n",
        "print('erkek : {}'.format(erkek))\n",
        "print('\\nkadin : {}'.format(kadin))\n",
        "\n",
        "tum_insanlar = []\n",
        "# tum insanlar dizisi olustur cinsiyetler karistir\n",
        "tum_insanlar = erkek + kadin\n",
        "shuffle(tum_insanlar)\n",
        "\n",
        "print('tum insanlar : {}\\n'.format(tum_insanlar))\n",
        "\n",
        "secilen_erkek = []\n",
        "secilen_kadin = []\n",
        "for x in range(k*2):\n",
        "    secilen_cinsiyet = tum_insanlar[x]\n",
        "\n",
        "    if secilen_cinsiyet == 'K':\n",
        "        secilen_kadin.append('K')\n",
        "    elif secilen_cinsiyet == 'E':\n",
        "        secilen_erkek.append('E')\n",
        "\n",
        "    if len(secilen_kadin) >= 8 or len(secilen_erkek) >= 8:\n",
        "        print('secilen kisi sayisi : en az {} kişi seçilmesi gerekmektedir.'.format(x+1))\n",
        "        print('secilen erkek : {} {} tane'.format(secilen_erkek, len(secilen_erkek)))\n",
        "        print('secilen kadin : {} {} tane'.format(secilen_kadin, len(secilen_kadin)))\n",
        "        break"
      ],
      "metadata": {
        "colab": {
          "base_uri": "https://localhost:8080/"
        },
        "id": "249MqKNhz9LF",
        "outputId": "ed2e84f6-bde6-4070-80cc-e9c7de124302"
      },
      "execution_count": null,
      "outputs": [
        {
          "output_type": "stream",
          "name": "stdout",
          "text": [
            "erkek : ['E', 'E', 'E', 'E', 'E', 'E', 'E', 'E', 'E', 'E', 'E', 'E', 'E', 'E', 'E']\n",
            "\n",
            "kadin : ['K', 'K', 'K', 'K', 'K', 'K', 'K', 'K', 'K', 'K', 'K', 'K', 'K', 'K', 'K']\n",
            "tum insanlar : ['K', 'E', 'K', 'E', 'K', 'E', 'E', 'K', 'E', 'K', 'K', 'K', 'K', 'E', 'E', 'E', 'K', 'E', 'E', 'E', 'E', 'K', 'E', 'K', 'K', 'E', 'E', 'K', 'K', 'K']\n",
            "\n",
            "secilen kisi sayisi : en az 13 kişi seçilmesi gerekmektedir.\n",
            "secilen erkek : ['E', 'E', 'E', 'E', 'E'] 5 tane\n",
            "secilen kadin : ['K', 'K', 'K', 'K', 'K', 'K', 'K', 'K'] 8 tane\n"
          ]
        }
      ]
    },
    {
      "cell_type": "code",
      "source": [
        ""
      ],
      "metadata": {
        "id": "AnVqlK5ELFoH"
      },
      "execution_count": null,
      "outputs": []
    }
  ]
}