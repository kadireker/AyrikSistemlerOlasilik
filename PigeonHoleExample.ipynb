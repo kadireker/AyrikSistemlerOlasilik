{
  "nbformat": 4,
  "nbformat_minor": 0,
  "metadata": {
    "colab": {
      "name": "PigeonHoleExample.ipynb",
      "provenance": [],
      "collapsed_sections": [],
      "authorship_tag": "ABX9TyMWqMyQkAmoDfzAhND5w2av",
      "include_colab_link": true
    },
    "kernelspec": {
      "name": "python3",
      "display_name": "Python 3"
    },
    "language_info": {
      "name": "python"
    }
  },
  "cells": [
    {
      "cell_type": "markdown",
      "metadata": {
        "id": "view-in-github",
        "colab_type": "text"
      },
      "source": [
        "<a href=\"https://colab.research.google.com/github/kadireker/AyrikSistemlerOlasilik/blob/main/PigeonHoleExample.ipynb\" target=\"_parent\"><img src=\"https://colab.research.google.com/assets/colab-badge.svg\" alt=\"Open In Colab\"/></a>"
      ]
    },
    {
      "cell_type": "markdown",
      "source": [
        "**Güvercin Yuvası İlkesi Ödev**\n",
        "\n",
        "Genellikle Güvercin Yuvası Prensibi olarak bilinen bu ilke aynı zamanda “Çekmece İlkesi”  veya “Dirichlet Kutu (çekmece) ilkesi” olarak da bilinmektedir. İngilizce kullanımı ise “Pigeonhole Principle (Güvercin Prensibi)” şeklindedir.\n",
        "\n",
        "Bu ilke tam olarak şunu der: N ve k pozitif tamsayılar ve N > k olmak üzere N nesne k kutuya yerleştirildiğinde öyle bir kutu vardır ki o kutuda birden çok nesne bulunmak zorundadır. Bu doğru olmasaydı, yani her kutuda en fazla birer nesne olsaydı, k kutuda en fazla k nesne olabilecekti.\n",
        "\n",
        "**ÖRNEK :** \n",
        "\n",
        "Bu problemde ayları yuva olarak değerlendirdiğimizde. 37 kişiyi eşit olarak bölmek için 12 ye bölüyoruz ve her yuvaya 1 kişiyi atıyoruz. Sonrasında kalan +1 eklediğimizde en az 4 kişi aynı ayda doğmuş oluyor.\n",
        "\n",
        "**ÇÖZÜM :**"
      ],
      "metadata": {
        "id": "kVwKPa6hNCjk"
      }
    },
    {
      "cell_type": "code",
      "source": [
        "# Bir sınıftaki 37 kişi arasında aynı AYDA doğan en az kaç kişi vardır?\n",
        "x=37\n",
        "sonuc = int(37/12)+1\n",
        "print(sonuc)"
      ],
      "metadata": {
        "colab": {
          "base_uri": "https://localhost:8080/"
        },
        "id": "zrToSJMrFGq3",
        "outputId": "49490520-82e1-476b-96ab-413b8de84024"
      },
      "execution_count": null,
      "outputs": [
        {
          "output_type": "stream",
          "name": "stdout",
          "text": [
            "4\n"
          ]
        }
      ]
    }
  ]
}