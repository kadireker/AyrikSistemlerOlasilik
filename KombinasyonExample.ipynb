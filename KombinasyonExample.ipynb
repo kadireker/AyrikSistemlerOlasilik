{
  "nbformat": 4,
  "nbformat_minor": 0,
  "metadata": {
    "colab": {
      "name": "KombinasyonExample.ipynb",
      "provenance": [],
      "authorship_tag": "ABX9TyNRIOD8FkRG5KETrfPh/+yu",
      "include_colab_link": true
    },
    "kernelspec": {
      "name": "python3",
      "display_name": "Python 3"
    },
    "language_info": {
      "name": "python"
    }
  },
  "cells": [
    {
      "cell_type": "markdown",
      "metadata": {
        "id": "view-in-github",
        "colab_type": "text"
      },
      "source": [
        "<a href=\"https://colab.research.google.com/github/kadireker/AyrikSistemlerOlasilik/blob/main/KombinasyonExample.ipynb\" target=\"_parent\"><img src=\"https://colab.research.google.com/assets/colab-badge.svg\" alt=\"Open In Colab\"/></a>"
      ]
    },
    {
      "cell_type": "markdown",
      "source": [
        "**Kombinasyon Ödev**\n",
        "\n",
        "Kombinasyon, bir nesne grubu içerisinden, sıra gözetmeksizin yapılan seçimlerdir.Diğer bir deyişle nesne grubuna karşılık gelen kümenin alt kümeleri olarak da adlandırılır. Çünkü, alt kümelerde sıra önemli değildir. O halde şöyle tanımlanabilir: Bir A kümesinin herhangi bir alt kümesine A kümesinin bir kombinasyonu denir.\n",
        "\n",
        "**Örnek :** \n",
        "\n",
        "Nüfusu 8000 olan 12. bölgeden 2 kisi seçilmek isteniyor. Bu seçim kaç farklı sekilde yapılabilir?\n",
        "\n",
        "Çözüm için kullanılacak formül n!/((n-x)!*(x!))\n",
        "\n",
        "Burada n =8000 ve x = 2\n"
      ],
      "metadata": {
        "id": "TmuPHqqfC2g5"
      }
    },
    {
      "cell_type": "code",
      "execution_count": 1,
      "metadata": {
        "id": "-uLvp_Y6CmDM"
      },
      "outputs": [],
      "source": [
        "def faktoriyel(f):\n",
        "    result = 1 \n",
        "    if f < 0: \n",
        "        print (\"Negatif sayılar için faktöriyel bulunmaz.\")\n",
        "    elif f == 0: \n",
        "        print (\"O ın faktöriyel 1 dir.\")\n",
        "    else:\n",
        "        for i in range(1,f + 1): \n",
        "            result = result*i \n",
        "    return result"
      ]
    },
    {
      "cell_type": "code",
      "source": [
        "def kombinasyon(x,y):\n",
        "    resultp = 0\n",
        "    if (y>x):\n",
        "        resultp = resultp\n",
        "    else:\n",
        "        resultp = faktoriyel(x)/(faktoriyel(x-y)*faktoriyel(y))\n",
        "    return resultp"
      ],
      "metadata": {
        "id": "eMfO-r6bDIQm"
      },
      "execution_count": 2,
      "outputs": []
    },
    {
      "cell_type": "code",
      "source": [
        "print(kombinasyon(8000,2))"
      ],
      "metadata": {
        "colab": {
          "base_uri": "https://localhost:8080/"
        },
        "id": "7mb3g6BCDJmd",
        "outputId": "2780e8d0-cd32-4e9d-e7fe-11b4698b684f"
      },
      "execution_count": 3,
      "outputs": [
        {
          "output_type": "stream",
          "name": "stdout",
          "text": [
            "31996000.0\n"
          ]
        }
      ]
    }
  ]
}