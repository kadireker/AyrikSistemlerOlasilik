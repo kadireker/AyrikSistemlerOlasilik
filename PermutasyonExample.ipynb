{
  "nbformat": 4,
  "nbformat_minor": 0,
  "metadata": {
    "colab": {
      "name": "PermutasyonExample.ipynb",
      "provenance": [],
      "authorship_tag": "ABX9TyNcQeG/93hkpeP7S11Ry80H",
      "include_colab_link": true
    },
    "kernelspec": {
      "name": "python3",
      "display_name": "Python 3"
    },
    "language_info": {
      "name": "python"
    }
  },
  "cells": [
    {
      "cell_type": "markdown",
      "metadata": {
        "id": "view-in-github",
        "colab_type": "text"
      },
      "source": [
        "<a href=\"https://colab.research.google.com/github/kadireker/AyrikSistemlerOlasilik/blob/main/PermutasyonExample.ipynb\" target=\"_parent\"><img src=\"https://colab.research.google.com/assets/colab-badge.svg\" alt=\"Open In Colab\"/></a>"
      ]
    },
    {
      "cell_type": "markdown",
      "source": [
        "**Permütasyon**\n",
        "\n",
        "Permütasyon ,n pozitif tamsayı, r doğal sayı ve r ≤n olmak üzere, n elemanlı bir kümenin r elemanlı sıralı r’lilerine o kümenin r’li permütasyonu olarak tanımlayabiliriz.n tane farklı nesnemiz var. bu n tane nesneden r tanesini aynı anda seçiyor ve sıralıyoruz, yani sıralı r’li oluşturuyoruz, işte bu sıralamaya n’in r’li permütasyonu denir. Permütasyonda diziliş önemlidir.\n",
        "\n",
        "P(n,r) = n!/(n−r)! n adet nesneden r tanesini seçip sıralamanın formülüdür.\n",
        "\n",
        "**Örnek:**\n",
        "\n",
        "5 arkadaş bir sıraya ikişerli oturup fotoğraf çektirecektir. Fotoğraf çekimi kaç farklı şekilde yapılabilir?\n",
        "\n",
        "Çözüm için kullanılacak formül : n!/(n−r)!\n",
        "\n",
        "Burada n =5 ve x = 2\n",
        "\n",
        "**Çözüm:**"
      ],
      "metadata": {
        "id": "G_cJqIyOHVK7"
      }
    },
    {
      "cell_type": "code",
      "execution_count": 1,
      "metadata": {
        "id": "tplEVH0eHRMv"
      },
      "outputs": [],
      "source": [
        "def faktoriyel(f):\n",
        "    result = 1 \n",
        "    if f < 0: \n",
        "        print (\"Negatif sayılar için faktöriyel bulunmaz.\")\n",
        "    elif f == 0: \n",
        "        print (\"O ın faktöriyel 1 dir.\")\n",
        "    else:\n",
        "        for i in range(1,f + 1): \n",
        "            result = result*i \n",
        "    return result"
      ]
    },
    {
      "cell_type": "code",
      "source": [
        "def permutasyon(x,y):\n",
        "    resultp = 0\n",
        "    if (y>x):\n",
        "        resultp = resultp\n",
        "    else:\n",
        "        resultp = faktoriyel(x)/faktoriyel(x-y)\n",
        "    return resultp"
      ],
      "metadata": {
        "id": "o_3t0f5vIl6Y"
      },
      "execution_count": 2,
      "outputs": []
    },
    {
      "cell_type": "code",
      "source": [
        "print(permutasyon(5,2))"
      ],
      "metadata": {
        "colab": {
          "base_uri": "https://localhost:8080/"
        },
        "id": "YxmhrVC8I1MI",
        "outputId": "d0d9d03a-00e0-438b-fea0-1f92efad19f4"
      },
      "execution_count": 3,
      "outputs": [
        {
          "output_type": "stream",
          "name": "stdout",
          "text": [
            "20.0\n"
          ]
        }
      ]
    }
  ]
}